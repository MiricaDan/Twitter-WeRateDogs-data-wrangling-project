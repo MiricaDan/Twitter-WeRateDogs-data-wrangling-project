{
 "cells": [
  {
   "cell_type": "markdown",
   "metadata": {},
   "source": [
    "# WeRateDogs Twitter account data wrangling project\n",
    "\n",
    "## Gathering, assessing and cleaning summary"
   ]
  },
  {
   "cell_type": "markdown",
   "metadata": {},
   "source": [
    "\n",
    "## Gathering summary\n",
    "\n",
    "- The 1st dataset, `df_archive` was loaded in the Jupyter notebook via the pd.read_csv method and was available at the start of the project\n",
    "- The 2nd dataset, `df_image` was extracted with the help of the requests library and stored in the local Jupyter notebook as a file\n",
    "- The 3rd dataset, `df_api` was extracted via the Twitter API, with the following process:\n",
    "  - Twitter developer account created\n",
    "  - Connected to the API in the Jupyter notebook using the consumer key and access toke provided\n",
    "  - Pulled the requested API data and stored it in a local txt file\n",
    "  - Loaded the data in Jupyter notebook via JSON methods\n",
    "\n"
   ]
  },
  {
   "cell_type": "markdown",
   "metadata": {},
   "source": [
    "## Assessing summary\n",
    "\n",
    "### Quality issues:\n",
    "\n",
    "#### Overall:\n",
    "\n",
    "- Incomplete data - different number of total rows in all dataframes: `df_image` (2075), `df_api` (2331), `df_archive` (2356)\n",
    "\n",
    "#### df_archive:\n",
    "\n",
    "- `Timestamp` was stored as object \n",
    "- There were 181 records of retweeted tweets that should not have been in the dataset \n",
    "- Some of the `numerator` and `denominator` values were inconsistent, although most of them were within an acceptable range. Most of the values checked visually were the same as in the `text` column. Since the rating system does not have any constraints or rules, *we did not be address this issue*\n",
    "- Some rating values were declared as decimals in the `text` column and differ from the `rating_numerator` values listed\n",
    "- There were 78 records of replies to tweets that should not have been in the dataset\n",
    "- The `Name`, `doggo`, `floofer`, `pupper` and `puppo` columns had null values declared as \"None\" thus having these registered as non null values\n",
    "- The `Name` column contained invalid data. All the values that are not a name were lowercase\n",
    "- Some rows in the `expanded_urls` column contained the same url multiple times\n",
    "- The `source` column entries contained unnecessary extra text\n",
    "\n",
    "#### df_image:\n",
    "\n",
    "- Inconsistent lower and uppercase strings stored in `p1`,`p2` and `p3` columns \n",
    "- Some images in the dataframe still contain dogs, despite values for the `p1_dog`, `p2_dog` and `p3_dog` columns coming up all as False (324 records). As it is impossible to know which images contain dogs in the 324 records, *we did not address the issue and consider the data as viable*\n",
    "\n",
    "### Tidyness issues:\n",
    "\n",
    "#### Overall:\n",
    "\n",
    "- The 3 dataframes available contain the same type of observational unites and should have been all in a single dataframe\n",
    "\n",
    "#### df_archive:\n",
    "\n",
    "- The doggo, floofer, pupper and puppo columns represent the same type of variable and should have all been stored in a single column. Also, some of the columns contained multiple values for different dog stages(e.g. - `doggo` and `floofer` columns both contain doggo and floofer values for the same row)\n",
    "\n",
    "\n"
   ]
  },
  {
   "cell_type": "markdown",
   "metadata": {},
   "source": [
    "## Cleaning summary\n",
    "\n",
    "- *Incomplete data - different number of total rows in all dataframes: `df_image` (2075), `df_api` (2331), `df_archive` (2356)* - <b>this could not be fixed</b>\n",
    "\n",
    "#### df_archive:\n",
    "\n",
    "- *`Timestamp` was stored as object* - changed `timestamp` data type to datetime \n",
    "- *There were 181 records of retweeted tweets that should not have been in the dataset* - <b>removed all data connected to retweets</b>\n",
    "- *Some of the `numerator` and `denominator` values were inconsistent, although most of them were within an acceptable range. Most of the values checked visually were the same as in the `text` column. Since the rating system does not have any constraints or rules* - <b>we did not be address this issue</b>\n",
    "- *Some rating values were declared as decimals in the `text` column and differ from the `rating_numerator` values listed* - <b>changed the `rating_numerator` column data type to float and aligned the discrepant values between the rating given in the text column with the ones in the rating_numerator column</b>\n",
    "- *There were 78 records of replies to tweets that should not have been in the dataset* - <b>removed all data connected to replies</b>\n",
    "- *The `Name`, `doggo`, `floofer`, `pupper` and `puppo` columns had null values declared as \"None\" thus having these registered as non null values* - <b>changed the \"None\" values to NaN</b>\n",
    "- *The `Name` column contained invalid data. All the values that are not a name were lowercase* - <b>removed all entries that started with a lowercase letter</b>\n",
    "- *Some rows in the `expanded_urls` column contained the same url multiple times* - <b>removed all text before the last comma</b>\n",
    "- *The `source` column entries contained unnecessary extra text* - <b>removed the extraneous text from all rows</b>\n",
    "\n",
    "#### df_image:\n",
    "\n",
    "- *Inconsistent lower and uppercase strings stored in `p1`,`p2` and `p3` columns* - <b>converted all values in all the columns to lowercase</b>\n",
    "- *Some images in the dataframe still contain dogs, despite values for the `p1_dog`, `p2_dog` and `p3_dog` columns coming up all as False (324 records). As it is impossible to know which images contain dogs in the 324 records* - <b>we did not be address the issue as mentioned above</b>\n",
    "\n",
    "### Tidyness issues:\n",
    "\n",
    "#### Overall:\n",
    "\n",
    "- *The 3 dataframes available contain the same type of observational unites and should have been all in a single dataframe* - <b>all the 3 dataframes were merged into the twitter_master_archive dataframe</b>\n",
    "\n",
    "#### df_archive:\n",
    "\n",
    "- *The doggo, floofer, pupper and puppo columns represent the same type of variable and should have all been stored in a single column .Also, some of the columns contained multiple values for different dog stages(e.g. - `doggo` and `floofer` columns both contain doggo and floofer values for the same row)* - <b>all these columns were merged into one column named dog_stage in the df_clean_archive dataframe and the cells containing more than one dog stage value were replaced with the 'multiple' value</b>\n"
   ]
  },
  {
   "cell_type": "code",
   "execution_count": null,
   "metadata": {},
   "outputs": [],
   "source": []
  }
 ],
 "metadata": {
  "kernelspec": {
   "display_name": "Python 3",
   "language": "python",
   "name": "python3"
  },
  "language_info": {
   "codemirror_mode": {
    "name": "ipython",
    "version": 3
   },
   "file_extension": ".py",
   "mimetype": "text/x-python",
   "name": "python",
   "nbconvert_exporter": "python",
   "pygments_lexer": "ipython3",
   "version": "3.7.6"
  }
 },
 "nbformat": 4,
 "nbformat_minor": 2
}
